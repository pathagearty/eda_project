{
  "nbformat": 4,
  "nbformat_minor": 0,
  "metadata": {
    "colab": {
      "name": "EDA_Hagearty_Patrick.ipynb",
      "provenance": [],
      "collapsed_sections": []
    },
    "kernelspec": {
      "name": "python3",
      "display_name": "Python 3"
    }
  },
  "cells": [
    {
      "cell_type": "code",
      "metadata": {
        "colab": {
          "base_uri": "https://localhost:8080/",
          "height": 635
        },
        "id": "YdcxkESD4nJt",
        "outputId": "744b6825-47a6-4148-d0c8-7c37fa883da6"
      },
      "source": [
        "import pandas as pd\r\n",
        "import numpy as np\r\n",
        "import matplotlib.pyplot as plt\r\n",
        "\r\n",
        "df = pd.read_excel('/content/pbp-2020.xlsx')\r\n",
        "df.head()"
      ],
      "execution_count": 1,
      "outputs": [
        {
          "output_type": "execute_result",
          "data": {
            "text/html": [
              "<div>\n",
              "<style scoped>\n",
              "    .dataframe tbody tr th:only-of-type {\n",
              "        vertical-align: middle;\n",
              "    }\n",
              "\n",
              "    .dataframe tbody tr th {\n",
              "        vertical-align: top;\n",
              "    }\n",
              "\n",
              "    .dataframe thead th {\n",
              "        text-align: right;\n",
              "    }\n",
              "</style>\n",
              "<table border=\"1\" class=\"dataframe\">\n",
              "  <thead>\n",
              "    <tr style=\"text-align: right;\">\n",
              "      <th></th>\n",
              "      <th>GameId</th>\n",
              "      <th>GameDate</th>\n",
              "      <th>Quarter</th>\n",
              "      <th>Minute</th>\n",
              "      <th>Second</th>\n",
              "      <th>OffenseTeam</th>\n",
              "      <th>DefenseTeam</th>\n",
              "      <th>Down</th>\n",
              "      <th>ToGo</th>\n",
              "      <th>YardLine</th>\n",
              "      <th>SeriesFirstDown</th>\n",
              "      <th>NextScore</th>\n",
              "      <th>Description</th>\n",
              "      <th>TeamWin</th>\n",
              "      <th>SeasonYear</th>\n",
              "      <th>Yards</th>\n",
              "      <th>Formation</th>\n",
              "      <th>PlayType</th>\n",
              "      <th>IsRush</th>\n",
              "      <th>IsPass</th>\n",
              "      <th>IsIncomplete</th>\n",
              "      <th>IsTouchdown</th>\n",
              "      <th>PassType</th>\n",
              "      <th>IsSack</th>\n",
              "      <th>IsChallenge</th>\n",
              "      <th>IsChallengeReversed</th>\n",
              "      <th>Challenger</th>\n",
              "      <th>IsMeasurement</th>\n",
              "      <th>IsInterception</th>\n",
              "      <th>IsFumble</th>\n",
              "      <th>IsPenalty</th>\n",
              "      <th>IsTwoPointConversion</th>\n",
              "      <th>IsTwoPointConversionSuccessful</th>\n",
              "      <th>RushDirection</th>\n",
              "      <th>YardLineFixed</th>\n",
              "      <th>YardLineDirection</th>\n",
              "      <th>IsPenaltyAccepted</th>\n",
              "      <th>PenaltyTeam</th>\n",
              "      <th>IsNoPlay</th>\n",
              "      <th>PenaltyType</th>\n",
              "      <th>PenaltyYards</th>\n",
              "    </tr>\n",
              "  </thead>\n",
              "  <tbody>\n",
              "    <tr>\n",
              "      <th>0</th>\n",
              "      <td>2020122602</td>\n",
              "      <td>2020-12-26</td>\n",
              "      <td>2</td>\n",
              "      <td>9</td>\n",
              "      <td>44</td>\n",
              "      <td>LV</td>\n",
              "      <td>MIA</td>\n",
              "      <td>2</td>\n",
              "      <td>10</td>\n",
              "      <td>82</td>\n",
              "      <td>0</td>\n",
              "      <td>0</td>\n",
              "      <td>(9:44) (SHOTGUN) 4-D.CARR SACKED AT MIA 27 FOR...</td>\n",
              "      <td>0</td>\n",
              "      <td>2020</td>\n",
              "      <td>-9</td>\n",
              "      <td>SHOTGUN</td>\n",
              "      <td>SACK</td>\n",
              "      <td>0</td>\n",
              "      <td>0</td>\n",
              "      <td>0</td>\n",
              "      <td>0</td>\n",
              "      <td>NaN</td>\n",
              "      <td>1</td>\n",
              "      <td>0</td>\n",
              "      <td>0</td>\n",
              "      <td>NaN</td>\n",
              "      <td>0</td>\n",
              "      <td>0</td>\n",
              "      <td>0</td>\n",
              "      <td>0</td>\n",
              "      <td>0</td>\n",
              "      <td>0</td>\n",
              "      <td>NaN</td>\n",
              "      <td>18</td>\n",
              "      <td>OPP</td>\n",
              "      <td>0</td>\n",
              "      <td>NaN</td>\n",
              "      <td>0</td>\n",
              "      <td>NaN</td>\n",
              "      <td>0</td>\n",
              "    </tr>\n",
              "    <tr>\n",
              "      <th>1</th>\n",
              "      <td>2020122602</td>\n",
              "      <td>2020-12-26</td>\n",
              "      <td>2</td>\n",
              "      <td>9</td>\n",
              "      <td>3</td>\n",
              "      <td>LV</td>\n",
              "      <td>MIA</td>\n",
              "      <td>3</td>\n",
              "      <td>19</td>\n",
              "      <td>73</td>\n",
              "      <td>0</td>\n",
              "      <td>0</td>\n",
              "      <td>(9:03) (SHOTGUN) 30-J.RICHARD LEFT GUARD PUSHE...</td>\n",
              "      <td>0</td>\n",
              "      <td>2020</td>\n",
              "      <td>18</td>\n",
              "      <td>SHOTGUN</td>\n",
              "      <td>RUSH</td>\n",
              "      <td>1</td>\n",
              "      <td>0</td>\n",
              "      <td>0</td>\n",
              "      <td>0</td>\n",
              "      <td>NaN</td>\n",
              "      <td>0</td>\n",
              "      <td>0</td>\n",
              "      <td>0</td>\n",
              "      <td>NaN</td>\n",
              "      <td>0</td>\n",
              "      <td>0</td>\n",
              "      <td>0</td>\n",
              "      <td>0</td>\n",
              "      <td>0</td>\n",
              "      <td>0</td>\n",
              "      <td>LEFT GUARD</td>\n",
              "      <td>27</td>\n",
              "      <td>OPP</td>\n",
              "      <td>0</td>\n",
              "      <td>NaN</td>\n",
              "      <td>0</td>\n",
              "      <td>NaN</td>\n",
              "      <td>0</td>\n",
              "    </tr>\n",
              "    <tr>\n",
              "      <th>2</th>\n",
              "      <td>2020122500</td>\n",
              "      <td>2020-12-25</td>\n",
              "      <td>3</td>\n",
              "      <td>1</td>\n",
              "      <td>17</td>\n",
              "      <td>MIN</td>\n",
              "      <td>NO</td>\n",
              "      <td>3</td>\n",
              "      <td>9</td>\n",
              "      <td>67</td>\n",
              "      <td>0</td>\n",
              "      <td>0</td>\n",
              "      <td>(1:17) (SHOTGUN) 8-K.COUSINS PASS INCOMPLETE S...</td>\n",
              "      <td>0</td>\n",
              "      <td>2020</td>\n",
              "      <td>0</td>\n",
              "      <td>SHOTGUN</td>\n",
              "      <td>PASS</td>\n",
              "      <td>0</td>\n",
              "      <td>1</td>\n",
              "      <td>1</td>\n",
              "      <td>0</td>\n",
              "      <td>SHORT LEFT</td>\n",
              "      <td>0</td>\n",
              "      <td>0</td>\n",
              "      <td>0</td>\n",
              "      <td>NaN</td>\n",
              "      <td>0</td>\n",
              "      <td>0</td>\n",
              "      <td>0</td>\n",
              "      <td>1</td>\n",
              "      <td>0</td>\n",
              "      <td>0</td>\n",
              "      <td>NaN</td>\n",
              "      <td>33</td>\n",
              "      <td>OPP</td>\n",
              "      <td>0</td>\n",
              "      <td>NO</td>\n",
              "      <td>1</td>\n",
              "      <td>DEFENSIVE HOLDING</td>\n",
              "      <td>0</td>\n",
              "    </tr>\n",
              "    <tr>\n",
              "      <th>3</th>\n",
              "      <td>2020122500</td>\n",
              "      <td>2020-12-25</td>\n",
              "      <td>3</td>\n",
              "      <td>1</td>\n",
              "      <td>12</td>\n",
              "      <td>MIN</td>\n",
              "      <td>NO</td>\n",
              "      <td>1</td>\n",
              "      <td>10</td>\n",
              "      <td>82</td>\n",
              "      <td>0</td>\n",
              "      <td>0</td>\n",
              "      <td>(1:12) 8-K.COUSINS PASS INCOMPLETE DEEP LEFT T...</td>\n",
              "      <td>0</td>\n",
              "      <td>2020</td>\n",
              "      <td>0</td>\n",
              "      <td>UNDER CENTER</td>\n",
              "      <td>PASS</td>\n",
              "      <td>0</td>\n",
              "      <td>1</td>\n",
              "      <td>1</td>\n",
              "      <td>0</td>\n",
              "      <td>DEEP LEFT</td>\n",
              "      <td>0</td>\n",
              "      <td>0</td>\n",
              "      <td>0</td>\n",
              "      <td>NaN</td>\n",
              "      <td>0</td>\n",
              "      <td>0</td>\n",
              "      <td>0</td>\n",
              "      <td>1</td>\n",
              "      <td>0</td>\n",
              "      <td>0</td>\n",
              "      <td>NaN</td>\n",
              "      <td>18</td>\n",
              "      <td>OPP</td>\n",
              "      <td>1</td>\n",
              "      <td>NO</td>\n",
              "      <td>1</td>\n",
              "      <td>DEFENSIVE PASS INTERFERENCE</td>\n",
              "      <td>17</td>\n",
              "    </tr>\n",
              "    <tr>\n",
              "      <th>4</th>\n",
              "      <td>2020122500</td>\n",
              "      <td>2020-12-25</td>\n",
              "      <td>3</td>\n",
              "      <td>1</td>\n",
              "      <td>6</td>\n",
              "      <td>MIN</td>\n",
              "      <td>NO</td>\n",
              "      <td>1</td>\n",
              "      <td>1</td>\n",
              "      <td>99</td>\n",
              "      <td>0</td>\n",
              "      <td>0</td>\n",
              "      <td>(1:06) 69-R.HILL REPORTED IN AS ELIGIBLE.  33-...</td>\n",
              "      <td>0</td>\n",
              "      <td>2020</td>\n",
              "      <td>-3</td>\n",
              "      <td>UNDER CENTER</td>\n",
              "      <td>RUSH</td>\n",
              "      <td>1</td>\n",
              "      <td>0</td>\n",
              "      <td>0</td>\n",
              "      <td>0</td>\n",
              "      <td>NaN</td>\n",
              "      <td>0</td>\n",
              "      <td>0</td>\n",
              "      <td>0</td>\n",
              "      <td>NaN</td>\n",
              "      <td>0</td>\n",
              "      <td>0</td>\n",
              "      <td>0</td>\n",
              "      <td>0</td>\n",
              "      <td>0</td>\n",
              "      <td>0</td>\n",
              "      <td>LEFT GUARD</td>\n",
              "      <td>1</td>\n",
              "      <td>OPP</td>\n",
              "      <td>0</td>\n",
              "      <td>NaN</td>\n",
              "      <td>0</td>\n",
              "      <td>NaN</td>\n",
              "      <td>0</td>\n",
              "    </tr>\n",
              "  </tbody>\n",
              "</table>\n",
              "</div>"
            ],
            "text/plain": [
              "       GameId   GameDate  ...                  PenaltyType  PenaltyYards\n",
              "0  2020122602 2020-12-26  ...                          NaN             0\n",
              "1  2020122602 2020-12-26  ...                          NaN             0\n",
              "2  2020122500 2020-12-25  ...            DEFENSIVE HOLDING             0\n",
              "3  2020122500 2020-12-25  ...  DEFENSIVE PASS INTERFERENCE            17\n",
              "4  2020122500 2020-12-25  ...                          NaN             0\n",
              "\n",
              "[5 rows x 41 columns]"
            ]
          },
          "metadata": {
            "tags": []
          },
          "execution_count": 1
        }
      ]
    },
    {
      "cell_type": "code",
      "metadata": {
        "id": "Hdy4_sA80K43"
      },
      "source": [
        "# link to blog\r\n",
        "# "
      ],
      "execution_count": null,
      "outputs": []
    },
    {
      "cell_type": "code",
      "metadata": {
        "id": "92olOK3ZS4Rv"
      },
      "source": [
        "df.tail()"
      ],
      "execution_count": null,
      "outputs": []
    },
    {
      "cell_type": "code",
      "metadata": {
        "id": "8_dcR8DV9yjW"
      },
      "source": [
        "df.describe()"
      ],
      "execution_count": null,
      "outputs": []
    },
    {
      "cell_type": "code",
      "metadata": {
        "id": "JUGfYgBXVs2O"
      },
      "source": [
        "df.isnull()"
      ],
      "execution_count": null,
      "outputs": []
    },
    {
      "cell_type": "code",
      "metadata": {
        "id": "1CH4tW8iHG-p"
      },
      "source": [
        "x = pd.DataFrame(df.groupby('Down').sum()['Yards']).reset_index()\r\n",
        "print(x)\r\n",
        "plt.plot(x['Down'],x['Yards'])"
      ],
      "execution_count": null,
      "outputs": []
    },
    {
      "cell_type": "code",
      "metadata": {
        "id": "mbRKiU1wI63T"
      },
      "source": [
        "# yards by quarter\r\n",
        "yards = pd.DataFrame(df.groupby('Quarter').sum()['Yards']).reset_index()\r\n",
        "yards.drop(index=3)\r\n",
        "print(yards)"
      ],
      "execution_count": null,
      "outputs": []
    },
    {
      "cell_type": "code",
      "metadata": {
        "colab": {
          "base_uri": "https://localhost:8080/",
          "height": 393
        },
        "id": "DlftWt3eAIKu",
        "outputId": "93a41de8-8187-44ab-b97f-51a64f0c3435"
      },
      "source": [
        "yardsByForm = pd.DataFrame(df.groupby('Formation').sum()['Yards'])\r\n",
        "playsByForm = pd.DataFrame(df.groupby('Formation').count()['Yards'])\r\n",
        "# total yards by formation\r\n",
        "print(yardsByForm)\r\n",
        "# how many plays ran in each formation \r\n",
        "print(playsByForm)\r\n",
        "# yards per play by formation\r\n",
        "# clean up\r\n",
        "YPPBF = pd.DataFrame(yardsByForm/playsByForm).reset_index()\r\n",
        "YPPBF = YPPBF.drop([0,3])\r\n",
        "# plot\r\n",
        "plt.xticks(rotation='vertical',size=8)\r\n",
        "plt.xlabel('Formation')\r\n",
        "plt.ylabel('Yards per Play')\r\n",
        "plt.title('Yards per Play by Formation')\r\n",
        "plt.bar(YPPBF['Formation'], YPPBF['Yards'], color=['Purple', 'Blue', 'Green', 'Red'])"
      ],
      "execution_count": 4,
      "outputs": [
        {
          "output_type": "execute_result",
          "data": {
            "text/plain": [
              "<BarContainer object of 4 artists>"
            ]
          },
          "metadata": {
            "tags": []
          },
          "execution_count": 4
        },
        {
          "output_type": "display_data",
          "data": {
            "image/png": "[encoded data removed]",
            "text/plain": [
              "<Figure size 432x288 with 1 Axes>"
            ]
          },
          "metadata": {
            "tags": [],
            "needs_background": "light"
          }
        }
      ]
    },
    {
      "cell_type": "code",
      "metadata": {
        "colab": {
          "base_uri": "https://localhost:8080/"
        },
        "id": "y34a0gyLL_TM",
        "outputId": "c05e5502-8e5c-4ae2-9a8c-1258800ffb8a"
      },
      "source": [
        "# run yards by formation\r\n",
        "# get total yards \r\n",
        "RyardsByForm = pd.DataFrame(df.groupby(['IsRush','Formation']).sum()['Yards'])\r\n",
        "# get count of plays\r\n",
        "RplaysByForm = pd.DataFrame(df.groupby(['IsRush','Formation']).count()['Yards'])\r\n",
        "# clean\r\n",
        "RyardsByForm = RyardsByForm.drop(index=0)\r\n",
        "RplaysByForm = RplaysByForm.drop(index=0)\r\n",
        "# RYBF\r\n",
        "RYBF = (RyardsByForm / RplaysByForm)\r\n",
        "RYBF = RYBF.reset_index()\r\n",
        "RYBF.columns"
      ],
      "execution_count": 21,
      "outputs": [
        {
          "output_type": "execute_result",
          "data": {
            "text/plain": [
              "Index(['IsRush', 'Formation', 'Yards'], dtype='object')"
            ]
          },
          "metadata": {
            "tags": []
          },
          "execution_count": 21
        }
      ]
    },
    {
      "cell_type": "code",
      "metadata": {
        "colab": {
          "base_uri": "https://localhost:8080/",
          "height": 393
        },
        "id": "iaPkEEpdSy72",
        "outputId": "8e4d59c2-8a13-484f-b467-e63e5afceffa"
      },
      "source": [
        "# plotting Run yards by formation \r\n",
        "plt.xticks(rotation='vertical',size=8)\r\n",
        "plt.xlabel('Formation')\r\n",
        "plt.ylabel('Yards per Play')\r\n",
        "plt.title('Run Yards per Play by Formation')\r\n",
        "plt.bar(RYBF['Formation'],RYBF['Yards'], color=['Purple', 'Blue', 'Green', 'Red'])"
      ],
      "execution_count": 24,
      "outputs": [
        {
          "output_type": "execute_result",
          "data": {
            "text/plain": [
              "<BarContainer object of 4 artists>"
            ]
          },
          "metadata": {
            "tags": []
          },
          "execution_count": 24
        },
        {
          "output_type": "display_data",
          "data": {
            "image/png": "[encoded data removed]",
            "text/plain": [
              "<Figure size 432x288 with 1 Axes>"
            ]
          },
          "metadata": {
            "tags": [],
            "needs_background": "light"
          }
        }
      ]
    },
    {
      "cell_type": "code",
      "metadata": {
        "colab": {
          "base_uri": "https://localhost:8080/",
          "height": 172
        },
        "id": "fSQ6FvUqXTVT",
        "outputId": "04cd18d4-4aad-4144-df21-169bf3d14f1d"
      },
      "source": [
        "# pass yards by formation\r\n",
        "# getting total yards\r\n",
        "PyardsByForm = pd.DataFrame(df.groupby(['IsPass','Formation']).sum()['Yards'])\r\n",
        "# getting number of plays\r\n",
        "PplaysByForm = pd.DataFrame(df.groupby(['IsPass','Formation']).count()['Yards'])\r\n",
        "# cleaning \r\n",
        "PyardsByForm = PyardsByForm.drop(index=0)\r\n",
        "PplaysByForm = PplaysByForm.drop(index=0)\r\n",
        "# PYBF\r\n",
        "PYBF = (PyardsByForm / PplaysByForm)\r\n",
        "PYBF = PYBF.reset_index()\r\n",
        "PYBF\r\n"
      ],
      "execution_count": 30,
      "outputs": [
        {
          "output_type": "execute_result",
          "data": {
            "text/html": [
              "<div>\n",
              "<style scoped>\n",
              "    .dataframe tbody tr th:only-of-type {\n",
              "        vertical-align: middle;\n",
              "    }\n",
              "\n",
              "    .dataframe tbody tr th {\n",
              "        vertical-align: top;\n",
              "    }\n",
              "\n",
              "    .dataframe thead th {\n",
              "        text-align: right;\n",
              "    }\n",
              "</style>\n",
              "<table border=\"1\" class=\"dataframe\">\n",
              "  <thead>\n",
              "    <tr style=\"text-align: right;\">\n",
              "      <th></th>\n",
              "      <th>IsPass</th>\n",
              "      <th>Formation</th>\n",
              "      <th>Yards</th>\n",
              "    </tr>\n",
              "  </thead>\n",
              "  <tbody>\n",
              "    <tr>\n",
              "      <th>0</th>\n",
              "      <td>1</td>\n",
              "      <td>NO HUDDLE</td>\n",
              "      <td>7.390756</td>\n",
              "    </tr>\n",
              "    <tr>\n",
              "      <th>1</th>\n",
              "      <td>1</td>\n",
              "      <td>NO HUDDLE SHOTGUN</td>\n",
              "      <td>7.214133</td>\n",
              "    </tr>\n",
              "    <tr>\n",
              "      <th>2</th>\n",
              "      <td>1</td>\n",
              "      <td>SHOTGUN</td>\n",
              "      <td>7.133910</td>\n",
              "    </tr>\n",
              "    <tr>\n",
              "      <th>3</th>\n",
              "      <td>1</td>\n",
              "      <td>UNDER CENTER</td>\n",
              "      <td>8.542763</td>\n",
              "    </tr>\n",
              "  </tbody>\n",
              "</table>\n",
              "</div>"
            ],
            "text/plain": [
              "   IsPass          Formation     Yards\n",
              "0       1          NO HUDDLE  7.390756\n",
              "1       1  NO HUDDLE SHOTGUN  7.214133\n",
              "2       1            SHOTGUN  7.133910\n",
              "3       1       UNDER CENTER  8.542763"
            ]
          },
          "metadata": {
            "tags": []
          },
          "execution_count": 30
        }
      ]
    },
    {
      "cell_type": "code",
      "metadata": {
        "colab": {
          "base_uri": "https://localhost:8080/",
          "height": 393
        },
        "id": "W8EhYVwIXTZQ",
        "outputId": "ee7b6043-b59d-43ad-fe0b-c338050424e5"
      },
      "source": [
        "# plotting pass yards by formation \r\n",
        "plt.xticks(rotation='vertical',size=8)\r\n",
        "plt.xlabel('Formation')\r\n",
        "plt.ylabel('Yards per Play')\r\n",
        "plt.title('Pass Yards per Play by Formation')\r\n",
        "plt.bar(PYBF['Formation'],PYBF['Yards'], color=['Purple', 'Blue', 'Green', 'Red'])"
      ],
      "execution_count": 26,
      "outputs": [
        {
          "output_type": "execute_result",
          "data": {
            "text/plain": [
              "<BarContainer object of 4 artists>"
            ]
          },
          "metadata": {
            "tags": []
          },
          "execution_count": 26
        },
        {
          "output_type": "display_data",
          "data": {
            "image/png": "[encoded data removed]",
            "text/plain": [
              "<Figure size 432x288 with 1 Axes>"
            ]
          },
          "metadata": {
            "tags": [],
            "needs_background": "light"
          }
        }
      ]
    },
    {
      "cell_type": "code",
      "metadata": {
        "id": "ete1EaodRGws"
      },
      "source": [
        "pd.DataFrame(df.groupby('PlayType').sum()['Yards'])"
      ],
      "execution_count": null,
      "outputs": []
    },
    {
      "cell_type": "code",
      "metadata": {
        "colab": {
          "base_uri": "https://localhost:8080/",
          "height": 359
        },
        "id": "iLkctcrDRkbg",
        "outputId": "e587bde0-e2f3-4d67-ec44-cea4713b0190"
      },
      "source": [
        "# run yards by direction \r\n",
        "# getting total yards\r\n",
        "runDirYards = pd.DataFrame(df.groupby('RushDirection').sum()['Yards'])\r\n",
        "# getting number of plays\r\n",
        "runDirCoun = pd.DataFrame(df.groupby('RushDirection').count()['Yards'])\r\n",
        "# cleaning\r\n",
        "xyz = pd.DataFrame(runDirYards/runDirCoun).reset_index()\r\n",
        "# plotting \r\n",
        "plt.xticks(rotation='vertical',size=8)\r\n",
        "plt.ylabel('Yards per Carry')\r\n",
        "plt.xlabel('Run Direction')\r\n",
        "plt.title('Yards per Carry by Direction')\r\n",
        "plt.bar(xyz['RushDirection'], xyz['Yards'], color=['Black','Blue','Red','Green', 'Blue','Red','Green'])\r\n"
      ],
      "execution_count": 33,
      "outputs": [
        {
          "output_type": "execute_result",
          "data": {
            "text/plain": [
              "<BarContainer object of 7 artists>"
            ]
          },
          "metadata": {
            "tags": []
          },
          "execution_count": 33
        },
        {
          "output_type": "display_data",
          "data": {
            "image/png": "[encoded data removed]",
            "text/plain": [
              "<Figure size 432x288 with 1 Axes>"
            ]
          },
          "metadata": {
            "tags": [],
            "needs_background": "light"
          }
        }
      ]
    },
    {
      "cell_type": "code",
      "metadata": {
        "colab": {
          "base_uri": "https://localhost:8080/",
          "height": 264
        },
        "id": "CI4H-bPs_ULR",
        "outputId": "b5b86298-5e97-4323-9c48-406b02073cc8"
      },
      "source": [
        "xyz"
      ],
      "execution_count": 34,
      "outputs": [
        {
          "output_type": "execute_result",
          "data": {
            "text/html": [
              "<div>\n",
              "<style scoped>\n",
              "    .dataframe tbody tr th:only-of-type {\n",
              "        vertical-align: middle;\n",
              "    }\n",
              "\n",
              "    .dataframe tbody tr th {\n",
              "        vertical-align: top;\n",
              "    }\n",
              "\n",
              "    .dataframe thead th {\n",
              "        text-align: right;\n",
              "    }\n",
              "</style>\n",
              "<table border=\"1\" class=\"dataframe\">\n",
              "  <thead>\n",
              "    <tr style=\"text-align: right;\">\n",
              "      <th></th>\n",
              "      <th>RushDirection</th>\n",
              "      <th>Yards</th>\n",
              "    </tr>\n",
              "  </thead>\n",
              "  <tbody>\n",
              "    <tr>\n",
              "      <th>0</th>\n",
              "      <td>CENTER</td>\n",
              "      <td>4.139379</td>\n",
              "    </tr>\n",
              "    <tr>\n",
              "      <th>1</th>\n",
              "      <td>LEFT END</td>\n",
              "      <td>4.962677</td>\n",
              "    </tr>\n",
              "    <tr>\n",
              "      <th>2</th>\n",
              "      <td>LEFT GUARD</td>\n",
              "      <td>4.178893</td>\n",
              "    </tr>\n",
              "    <tr>\n",
              "      <th>3</th>\n",
              "      <td>LEFT TACKLE</td>\n",
              "      <td>4.640501</td>\n",
              "    </tr>\n",
              "    <tr>\n",
              "      <th>4</th>\n",
              "      <td>RIGHT END</td>\n",
              "      <td>5.268461</td>\n",
              "    </tr>\n",
              "    <tr>\n",
              "      <th>5</th>\n",
              "      <td>RIGHT GUARD</td>\n",
              "      <td>3.998206</td>\n",
              "    </tr>\n",
              "    <tr>\n",
              "      <th>6</th>\n",
              "      <td>RIGHT TACKLE</td>\n",
              "      <td>4.709163</td>\n",
              "    </tr>\n",
              "  </tbody>\n",
              "</table>\n",
              "</div>"
            ],
            "text/plain": [
              "  RushDirection     Yards\n",
              "0        CENTER  4.139379\n",
              "1      LEFT END  4.962677\n",
              "2    LEFT GUARD  4.178893\n",
              "3   LEFT TACKLE  4.640501\n",
              "4     RIGHT END  5.268461\n",
              "5   RIGHT GUARD  3.998206\n",
              "6  RIGHT TACKLE  4.709163"
            ]
          },
          "metadata": {
            "tags": []
          },
          "execution_count": 34
        }
      ]
    },
    {
      "cell_type": "code",
      "metadata": {
        "colab": {
          "base_uri": "https://localhost:8080/"
        },
        "id": "KOrhitdS_UY3",
        "outputId": "2116c8ac-8f34-4c61-955b-46b66e5053ba"
      },
      "source": [
        "tot = pd.DataFrame(df.groupby(['Down','IsRush']).sum())\r\n",
        "# remove kicks and none real downs\r\n",
        "tot = tot.drop(index=0)\r\n",
        "# remove non rushes\r\n",
        "tot = tot.reset_index()\r\n",
        "tot = tot.drop(index=[0,2,4,6])\r\n",
        "tot['Yards']"
      ],
      "execution_count": 36,
      "outputs": [
        {
          "output_type": "execute_result",
          "data": {
            "text/plain": [
              "1    33984\n",
              "3    20512\n",
              "5     7357\n",
              "7      732\n",
              "Name: Yards, dtype: int64"
            ]
          },
          "metadata": {
            "tags": []
          },
          "execution_count": 36
        }
      ]
    },
    {
      "cell_type": "code",
      "metadata": {
        "colab": {
          "base_uri": "https://localhost:8080/"
        },
        "id": "OCwuL8UB_Udy",
        "outputId": "4976546c-851f-4268-a028-d664f1c1b3b8"
      },
      "source": [
        "CRBD = pd.DataFrame(df.groupby(['Down','IsRush']).count())\r\n",
        "CRBD = CRBD.drop(index=0)\r\n",
        "\r\n",
        "CRBD = CRBD.reset_index()\r\n",
        "CRBD = CRBD.drop(index=[0,2,4,6])\r\n",
        "CRBD['Yards']"
      ],
      "execution_count": 37,
      "outputs": [
        {
          "output_type": "execute_result",
          "data": {
            "text/plain": [
              "1    7313\n",
              "3    4354\n",
              "5    1510\n",
              "7     251\n",
              "Name: Yards, dtype: int64"
            ]
          },
          "metadata": {
            "tags": []
          },
          "execution_count": 37
        }
      ]
    },
    {
      "cell_type": "code",
      "metadata": {
        "colab": {
          "base_uri": "https://localhost:8080/",
          "height": 172
        },
        "id": "azAxEXie_UhN",
        "outputId": "3636e2b2-5c45-42d3-d6a8-6e6adbe60ff3"
      },
      "source": [
        "# getting yard per carry by down \r\n",
        "YPCBD = (tot['Yards']/CRBD['Yards'])\r\n",
        "# get index back to downs\r\n",
        "YPCBD = YPCBD.rename(index={1:1,3:2,5:3,7:4})\r\n",
        "YPCBD = YPCBD.reset_index()\r\n",
        "YPCBD = YPCBD.rename(columns={'index':'Down'})\r\n",
        "YPCBD\r\n"
      ],
      "execution_count": 38,
      "outputs": [
        {
          "output_type": "execute_result",
          "data": {
            "text/html": [
              "<div>\n",
              "<style scoped>\n",
              "    .dataframe tbody tr th:only-of-type {\n",
              "        vertical-align: middle;\n",
              "    }\n",
              "\n",
              "    .dataframe tbody tr th {\n",
              "        vertical-align: top;\n",
              "    }\n",
              "\n",
              "    .dataframe thead th {\n",
              "        text-align: right;\n",
              "    }\n",
              "</style>\n",
              "<table border=\"1\" class=\"dataframe\">\n",
              "  <thead>\n",
              "    <tr style=\"text-align: right;\">\n",
              "      <th></th>\n",
              "      <th>Down</th>\n",
              "      <th>Yards</th>\n",
              "    </tr>\n",
              "  </thead>\n",
              "  <tbody>\n",
              "    <tr>\n",
              "      <th>0</th>\n",
              "      <td>1</td>\n",
              "      <td>4.647067</td>\n",
              "    </tr>\n",
              "    <tr>\n",
              "      <th>1</th>\n",
              "      <td>2</td>\n",
              "      <td>4.711070</td>\n",
              "    </tr>\n",
              "    <tr>\n",
              "      <th>2</th>\n",
              "      <td>3</td>\n",
              "      <td>4.872185</td>\n",
              "    </tr>\n",
              "    <tr>\n",
              "      <th>3</th>\n",
              "      <td>4</td>\n",
              "      <td>2.916335</td>\n",
              "    </tr>\n",
              "  </tbody>\n",
              "</table>\n",
              "</div>"
            ],
            "text/plain": [
              "   Down     Yards\n",
              "0     1  4.647067\n",
              "1     2  4.711070\n",
              "2     3  4.872185\n",
              "3     4  2.916335"
            ]
          },
          "metadata": {
            "tags": []
          },
          "execution_count": 38
        }
      ]
    },
    {
      "cell_type": "code",
      "metadata": {
        "colab": {
          "base_uri": "https://localhost:8080/",
          "height": 313
        },
        "id": "_G2wx5s7_Ukp",
        "outputId": "3dfc6808-4aff-4b0f-9937-4f89f9eecbce"
      },
      "source": [
        "#plt.tick_params(axis='x',which='both',bottom=False, top=False)\r\n",
        "plt.xlabel('Down')\r\n",
        "plt.ylabel('Yards per Carry')\r\n",
        "plt.title('Yards per Carry by Down')\r\n",
        "plt.plot(YPCBD['Down'], YPCBD['Yards'])\r\n"
      ],
      "execution_count": 40,
      "outputs": [
        {
          "output_type": "execute_result",
          "data": {
            "text/plain": [
              "[<matplotlib.lines.Line2D at 0x7f7868126c50>]"
            ]
          },
          "metadata": {
            "tags": []
          },
          "execution_count": 40
        },
        {
          "output_type": "display_data",
          "data": {
            "image/png": "[encoded data removed]",
            "text/plain": [
              "<Figure size 432x288 with 1 Axes>"
            ]
          },
          "metadata": {
            "tags": [],
            "needs_background": "light"
          }
        }
      ]
    },
    {
      "cell_type": "code",
      "metadata": {
        "id": "WS5JOepY_UrV"
      },
      "source": [
        ""
      ],
      "execution_count": null,
      "outputs": []
    },
    {
      "cell_type": "code",
      "metadata": {
        "colab": {
          "base_uri": "https://localhost:8080/",
          "height": 264
        },
        "id": "tFn0_FeYSCPG",
        "outputId": "0c2edccf-c5a0-4a30-a1bb-4d700bbfb43a"
      },
      "source": [
        "PassTypes = pd.DataFrame(df.groupby('PassType').sum()['Yards'])\r\n",
        "PassTypes = PassTypes.drop(['INTENDED FOR','INTERCEPTED BY','MIDDLE [55-FCLARK]','NOT LISTED','[58-H.LANDRY III]','MIDDLE TO','RIGHT TO'])\r\n",
        "#PassTypes = PassTypes.reset_index()\r\n",
        "#plt.bar(PassTypes['PassType'], PassTypes['Yards'])\r\n",
        "PassTypes"
      ],
      "execution_count": 15,
      "outputs": [
        {
          "output_type": "execute_result",
          "data": {
            "text/html": [
              "<div>\n",
              "<style scoped>\n",
              "    .dataframe tbody tr th:only-of-type {\n",
              "        vertical-align: middle;\n",
              "    }\n",
              "\n",
              "    .dataframe tbody tr th {\n",
              "        vertical-align: top;\n",
              "    }\n",
              "\n",
              "    .dataframe thead th {\n",
              "        text-align: right;\n",
              "    }\n",
              "</style>\n",
              "<table border=\"1\" class=\"dataframe\">\n",
              "  <thead>\n",
              "    <tr style=\"text-align: right;\">\n",
              "      <th></th>\n",
              "      <th>Yards</th>\n",
              "    </tr>\n",
              "    <tr>\n",
              "      <th>PassType</th>\n",
              "      <th></th>\n",
              "    </tr>\n",
              "  </thead>\n",
              "  <tbody>\n",
              "    <tr>\n",
              "      <th>DEEP LEFT</th>\n",
              "      <td>14756</td>\n",
              "    </tr>\n",
              "    <tr>\n",
              "      <th>DEEP MIDDLE</th>\n",
              "      <td>10591</td>\n",
              "    </tr>\n",
              "    <tr>\n",
              "      <th>DEEP RIGHT</th>\n",
              "      <td>17184</td>\n",
              "    </tr>\n",
              "    <tr>\n",
              "      <th>SHORT LEFT</th>\n",
              "      <td>35026</td>\n",
              "    </tr>\n",
              "    <tr>\n",
              "      <th>SHORT MIDDLE</th>\n",
              "      <td>26994</td>\n",
              "    </tr>\n",
              "    <tr>\n",
              "      <th>SHORT RIGHT</th>\n",
              "      <td>34935</td>\n",
              "    </tr>\n",
              "  </tbody>\n",
              "</table>\n",
              "</div>"
            ],
            "text/plain": [
              "              Yards\n",
              "PassType           \n",
              "DEEP LEFT     14756\n",
              "DEEP MIDDLE   10591\n",
              "DEEP RIGHT    17184\n",
              "SHORT LEFT    35026\n",
              "SHORT MIDDLE  26994\n",
              "SHORT RIGHT   34935"
            ]
          },
          "metadata": {
            "tags": []
          },
          "execution_count": 15
        }
      ]
    },
    {
      "cell_type": "code",
      "metadata": {
        "id": "a-1EKBCArmXw"
      },
      "source": [
        "# Total yards per pass type\r\n",
        "plt.xticks(rotation='vertical',size=8)\r\n",
        "plt.bar(PassTypes['PassType'],PassTypes['Yards'])"
      ],
      "execution_count": null,
      "outputs": []
    },
    {
      "cell_type": "code",
      "metadata": {
        "colab": {
          "base_uri": "https://localhost:8080/",
          "height": 264
        },
        "id": "fMJn4RvzsZqr",
        "outputId": "c0200df5-8a66-47e1-f953-0fbcae3b8112"
      },
      "source": [
        "# Count of plays for each pass type\r\n",
        "PTcount = pd.DataFrame(df.groupby('PassType').count()['Yards'])\r\n",
        "PTcount = PTcount.drop(['INTENDED FOR','INTERCEPTED BY','MIDDLE [55-FCLARK]','NOT LISTED','[58-H.LANDRY III]','MIDDLE TO','RIGHT TO'])\r\n",
        "#PTcount = PTcount.reset_index\r\n",
        "PTcount"
      ],
      "execution_count": 17,
      "outputs": [
        {
          "output_type": "execute_result",
          "data": {
            "text/html": [
              "<div>\n",
              "<style scoped>\n",
              "    .dataframe tbody tr th:only-of-type {\n",
              "        vertical-align: middle;\n",
              "    }\n",
              "\n",
              "    .dataframe tbody tr th {\n",
              "        vertical-align: top;\n",
              "    }\n",
              "\n",
              "    .dataframe thead th {\n",
              "        text-align: right;\n",
              "    }\n",
              "</style>\n",
              "<table border=\"1\" class=\"dataframe\">\n",
              "  <thead>\n",
              "    <tr style=\"text-align: right;\">\n",
              "      <th></th>\n",
              "      <th>Yards</th>\n",
              "    </tr>\n",
              "    <tr>\n",
              "      <th>PassType</th>\n",
              "      <th></th>\n",
              "    </tr>\n",
              "  </thead>\n",
              "  <tbody>\n",
              "    <tr>\n",
              "      <th>DEEP LEFT</th>\n",
              "      <td>1326</td>\n",
              "    </tr>\n",
              "    <tr>\n",
              "      <th>DEEP MIDDLE</th>\n",
              "      <td>727</td>\n",
              "    </tr>\n",
              "    <tr>\n",
              "      <th>DEEP RIGHT</th>\n",
              "      <td>1436</td>\n",
              "    </tr>\n",
              "    <tr>\n",
              "      <th>SHORT LEFT</th>\n",
              "      <td>5611</td>\n",
              "    </tr>\n",
              "    <tr>\n",
              "      <th>SHORT MIDDLE</th>\n",
              "      <td>3700</td>\n",
              "    </tr>\n",
              "    <tr>\n",
              "      <th>SHORT RIGHT</th>\n",
              "      <td>6050</td>\n",
              "    </tr>\n",
              "  </tbody>\n",
              "</table>\n",
              "</div>"
            ],
            "text/plain": [
              "              Yards\n",
              "PassType           \n",
              "DEEP LEFT      1326\n",
              "DEEP MIDDLE     727\n",
              "DEEP RIGHT     1436\n",
              "SHORT LEFT     5611\n",
              "SHORT MIDDLE   3700\n",
              "SHORT RIGHT    6050"
            ]
          },
          "metadata": {
            "tags": []
          },
          "execution_count": 17
        }
      ]
    },
    {
      "cell_type": "code",
      "metadata": {
        "colab": {
          "base_uri": "https://localhost:8080/",
          "height": 233
        },
        "id": "Ea-mjYGOtTsJ",
        "outputId": "43ddb909-5ec2-4012-85de-d3786533623e"
      },
      "source": [
        "# Yards per play by pass type\r\n",
        "YPPBPT = (PassTypes/PTcount)\r\n",
        "YPPBPT = YPPBPT.reset_index()\r\n",
        "YPPBPT\r\n"
      ],
      "execution_count": 18,
      "outputs": [
        {
          "output_type": "execute_result",
          "data": {
            "text/html": [
              "<div>\n",
              "<style scoped>\n",
              "    .dataframe tbody tr th:only-of-type {\n",
              "        vertical-align: middle;\n",
              "    }\n",
              "\n",
              "    .dataframe tbody tr th {\n",
              "        vertical-align: top;\n",
              "    }\n",
              "\n",
              "    .dataframe thead th {\n",
              "        text-align: right;\n",
              "    }\n",
              "</style>\n",
              "<table border=\"1\" class=\"dataframe\">\n",
              "  <thead>\n",
              "    <tr style=\"text-align: right;\">\n",
              "      <th></th>\n",
              "      <th>PassType</th>\n",
              "      <th>Yards</th>\n",
              "    </tr>\n",
              "  </thead>\n",
              "  <tbody>\n",
              "    <tr>\n",
              "      <th>0</th>\n",
              "      <td>DEEP LEFT</td>\n",
              "      <td>11.128205</td>\n",
              "    </tr>\n",
              "    <tr>\n",
              "      <th>1</th>\n",
              "      <td>DEEP MIDDLE</td>\n",
              "      <td>14.568088</td>\n",
              "    </tr>\n",
              "    <tr>\n",
              "      <th>2</th>\n",
              "      <td>DEEP RIGHT</td>\n",
              "      <td>11.966574</td>\n",
              "    </tr>\n",
              "    <tr>\n",
              "      <th>3</th>\n",
              "      <td>SHORT LEFT</td>\n",
              "      <td>6.242381</td>\n",
              "    </tr>\n",
              "    <tr>\n",
              "      <th>4</th>\n",
              "      <td>SHORT MIDDLE</td>\n",
              "      <td>7.295676</td>\n",
              "    </tr>\n",
              "    <tr>\n",
              "      <th>5</th>\n",
              "      <td>SHORT RIGHT</td>\n",
              "      <td>5.774380</td>\n",
              "    </tr>\n",
              "  </tbody>\n",
              "</table>\n",
              "</div>"
            ],
            "text/plain": [
              "       PassType      Yards\n",
              "0     DEEP LEFT  11.128205\n",
              "1   DEEP MIDDLE  14.568088\n",
              "2    DEEP RIGHT  11.966574\n",
              "3    SHORT LEFT   6.242381\n",
              "4  SHORT MIDDLE   7.295676\n",
              "5   SHORT RIGHT   5.774380"
            ]
          },
          "metadata": {
            "tags": []
          },
          "execution_count": 18
        }
      ]
    },
    {
      "cell_type": "code",
      "metadata": {
        "colab": {
          "base_uri": "https://localhost:8080/",
          "height": 363
        },
        "id": "nx_7i3dYt6UK",
        "outputId": "22a210df-2f7c-4624-d2a4-917ffd35dce2"
      },
      "source": [
        "# plot for Yards per play by pass type \r\n",
        "plt.xticks(rotation='vertical',size=8)\r\n",
        "plt.xlabel('Pass Type')\r\n",
        "plt.ylabel('Ave Yards per Pass')\r\n",
        "plt.title('Yards per Play by Pass Type')\r\n",
        "plt.bar(YPPBPT['PassType'],YPPBPT['Yards'],color=['Red','Blue','Green'])"
      ],
      "execution_count": 20,
      "outputs": [
        {
          "output_type": "execute_result",
          "data": {
            "text/plain": [
              "<BarContainer object of 6 artists>"
            ]
          },
          "metadata": {
            "tags": []
          },
          "execution_count": 20
        },
        {
          "output_type": "display_data",
          "data": {
            "image/png": "[encoded data removed]",
            "text/plain": [
              "<Figure size 432x288 with 1 Axes>"
            ]
          },
          "metadata": {
            "tags": [],
            "needs_background": "light"
          }
        }
      ]
    },
    {
      "cell_type": "code",
      "metadata": {
        "id": "WJIEQdE_MZxu"
      },
      "source": [
        ""
      ],
      "execution_count": null,
      "outputs": []
    },
    {
      "cell_type": "code",
      "metadata": {
        "colab": {
          "base_uri": "https://localhost:8080/"
        },
        "id": "DMY5cvLkukbx",
        "outputId": "59300690-7804-49f4-f4aa-3d11314c297f"
      },
      "source": [
        "# Finding completeion percentage \r\n",
        "\r\n",
        "# Total passes by type\r\n",
        "TotalPlaysByType = pd.DataFrame(df.groupby('PassType').sum()['IsPass'])\r\n",
        "TotalPlaysByType = TotalPlaysByType.drop(['INTENDED FOR','INTERCEPTED BY','MIDDLE [55-FCLARK]','NOT LISTED','[58-H.LANDRY III]','MIDDLE TO','RIGHT TO'])\r\n",
        "#print(TotalPlaysByType)\r\n",
        "\r\n",
        "# finding incompletions \r\n",
        "TotalIncomp = pd.DataFrame(df.groupby('PassType').sum()['IsIncomplete'])\r\n",
        "TotalIncomp = TotalIncomp.drop(['INTENDED FOR','INTERCEPTED BY','MIDDLE [55-FCLARK]','NOT LISTED','[58-H.LANDRY III]','MIDDLE TO','RIGHT TO'])\r\n",
        "#print(TotalIncomp)\r\n",
        "#finding completions \r\n",
        "completionsByType = (TotalPlaysByType['IsPass'] - TotalIncomp['IsIncomplete'])\r\n",
        "completionsByType"
      ],
      "execution_count": 23,
      "outputs": [
        {
          "output_type": "execute_result",
          "data": {
            "text/plain": [
              "PassType\n",
              "DEEP LEFT        553\n",
              "DEEP MIDDLE      412\n",
              "DEEP RIGHT       632\n",
              "SHORT LEFT      4052\n",
              "SHORT MIDDLE    2627\n",
              "SHORT RIGHT     4137\n",
              "dtype: int64"
            ]
          },
          "metadata": {
            "tags": []
          },
          "execution_count": 23
        }
      ]
    },
    {
      "cell_type": "code",
      "metadata": {
        "colab": {
          "base_uri": "https://localhost:8080/"
        },
        "id": "T8r6UGyDw8cV",
        "outputId": "841c7925-1942-4986-c0ff-9aaa5a06ba5f"
      },
      "source": [
        "# completion percentage by type \r\n",
        "CompPercentageByType = (completionsByType / TotalPlaysByType['IsPass'])\r\n",
        "CompPercentageByType = pd.DataFrame(CompPercentageByType)\r\n",
        "CompPercentageByType = CompPercentageByType.reset_index()\r\n",
        "CompPercentageByType = CompPercentageByType.rename(columns={0:'CompPercent'})\r\n",
        "\r\n",
        "print(CompPercentageByType.columns)\r\n",
        "print(CompPercentageByType)"
      ],
      "execution_count": 24,
      "outputs": [
        {
          "output_type": "stream",
          "text": [
            "Index(['PassType', 'CompPercent'], dtype='object')\n",
            "       PassType  CompPercent\n",
            "0     DEEP LEFT     0.417044\n",
            "1   DEEP MIDDLE     0.566713\n",
            "2    DEEP RIGHT     0.440111\n",
            "3    SHORT LEFT     0.722153\n",
            "4  SHORT MIDDLE     0.710000\n",
            "5   SHORT RIGHT     0.683802\n"
          ],
          "name": "stdout"
        }
      ]
    },
    {
      "cell_type": "code",
      "metadata": {
        "colab": {
          "base_uri": "https://localhost:8080/",
          "height": 363
        },
        "id": "uXpaMtlNvWb3",
        "outputId": "2211391e-83a3-4c16-fdae-8ebe94e56b7e"
      },
      "source": [
        "plt.xticks(rotation='vertical',size=8)\r\n",
        "plt.xlabel(\"Pass Type\")\r\n",
        "plt.ylabel('Completion %')\r\n",
        "plt.title('Completion % by Pass Type')\r\n",
        "plt.bar(CompPercentageByType['PassType'],CompPercentageByType['CompPercent'], color=['Red','Blue','Green'])"
      ],
      "execution_count": 26,
      "outputs": [
        {
          "output_type": "execute_result",
          "data": {
            "text/plain": [
              "<BarContainer object of 6 artists>"
            ]
          },
          "metadata": {
            "tags": []
          },
          "execution_count": 26
        },
        {
          "output_type": "display_data",
          "data": {
            "image/png": "[encoded data removed]",
            "text/plain": [
              "<Figure size 432x288 with 1 Axes>"
            ]
          },
          "metadata": {
            "tags": [],
            "needs_background": "light"
          }
        }
      ]
    },
    {
      "cell_type": "code",
      "metadata": {
        "id": "201-tHE--oAz"
      },
      "source": [
        ""
      ],
      "execution_count": null,
      "outputs": []
    }
  ]
}